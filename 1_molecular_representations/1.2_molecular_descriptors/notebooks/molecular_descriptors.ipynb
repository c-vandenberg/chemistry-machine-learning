{
 "cells": [
  {
   "cell_type": "markdown",
   "id": "68759197-cc59-4944-8a28-8743982fb43f",
   "metadata": {},
   "source": [
    "# Calculating 1D and 2D Molecular Descriptors Using RDKit and Mordred"
   ]
  },
  {
   "cell_type": "code",
   "execution_count": 1,
   "id": "93ef6ded-5b5c-474a-a201-8070bacb615b",
   "metadata": {},
   "outputs": [],
   "source": [
    "import sys\n",
    "import os\n",
    "import pandas\n",
    "from pandas import DataFrame\n",
    "from rdkit import Chem\n",
    "\n",
    "os.environ['MOL_DESCRIPTORS_PYTHON_DIR_PATH'] =  os.path.join(os.getcwd(), '../src')\n",
    "os.environ['MOL_DESCRIPTORS_DATA_DIR_PATH'] =  os.path.join(os.getcwd(), '../data')\n",
    "sys.path.append(os.getenv('MOL_DESCRIPTORS_PYTHON_DIR_PATH'))\n",
    "\n",
    "from utils import molecular_descriptors_utils\n",
    "from constants.smiles_constants import SmilesConstants"
   ]
  },
  {
   "cell_type": "markdown",
   "id": "eb102a98-90e3-4a19-9bd9-58e325221889",
   "metadata": {},
   "source": [
    "## 1. Load SMILES Data Set"
   ]
  },
  {
   "cell_type": "code",
   "execution_count": 2,
   "id": "710cf7e1-4a96-456d-a689-799734cb3430",
   "metadata": {},
   "outputs": [],
   "source": [
    "# SMILES data set extracted from https://zivgitlab.uni-muenster.de/m_kueh11/fp-dm-tool\n",
    "# Data set gives SMILES strings and HOMO-LUMO energy gap (in meV)\n",
    "mol_descriptors_data_dir: str = os.path.join(os.getcwd(), '../data')\n",
    "dataset: DataFrame = pandas.read_csv(os.path.join(mol_descriptors_data_dir, 'Orbital_Energies_input_data.csv'))"
   ]
  },
  {
   "cell_type": "markdown",
   "id": "8b0e08c4-bbc1-4f77-ba3c-9331084645f5",
   "metadata": {},
   "source": [
    "## 2. Generate Canonical SMILES"
   ]
  },
  {
   "cell_type": "markdown",
   "id": "84f6629e-995a-4fcc-b43c-f325d58a6627",
   "metadata": {},
   "source": [
    "SMILES strings are **not unique identifiers**. There are many equivalent options to generate a SMILES string for a given structure. For example, for the molecule 1-butene:"
   ]
  },
  {
   "cell_type": "code",
   "execution_count": 3,
   "id": "e2835a6c-f249-45af-9890-7d3ac669b401",
   "metadata": {},
   "outputs": [
    {
     "data": {
      "image/png": "[encoded data removed]",
      "text/plain": [
       "<rdkit.Chem.rdchem.Mol at 0x7cbec5a79f50>"
      ]
     },
     "execution_count": 3,
     "metadata": {},
     "output_type": "execute_result"
    }
   ],
   "source": [
    "butene_smiles_a = 'C=CCC'\n",
    "butene_mol_a: str = Chem.MolFromSmiles(butene_smiles_a)\n",
    "butene_mol_a"
   ]
  },
  {
   "cell_type": "code",
   "execution_count": 4,
   "id": "52b08299-c392-493e-9ca8-9822a75b4932",
   "metadata": {},
   "outputs": [
    {
     "data": {
      "image/png": "[encoded data removed]",
      "text/plain": [
       "<rdkit.Chem.rdchem.Mol at 0x7cbec5a7a180>"
      ]
     },
     "execution_count": 4,
     "metadata": {},
     "output_type": "execute_result"
    }
   ],
   "source": [
    "butene_smiles_b = 'CCC=C'\n",
    "butene_mol_b: str = Chem.MolFromSmiles(butene_smiles_b)\n",
    "butene_mol_b"
   ]
  },
  {
   "cell_type": "code",
   "execution_count": 5,
   "id": "3036722d-f69a-4824-87e9-34c5d04a2288",
   "metadata": {},
   "outputs": [
    {
     "data": {
      "text/plain": [
       "False"
      ]
     },
     "execution_count": 5,
     "metadata": {},
     "output_type": "execute_result"
    }
   ],
   "source": [
    "butene_smiles_a == butene_smiles_b"
   ]
  },
  {
   "cell_type": "markdown",
   "id": "80a8e969-e361-41da-8480-57d83946379a",
   "metadata": {},
   "source": [
    "As you can see, despite this being the same molecule, Python does not consider them to be equivalent. This is why we have to **canonicalise SMILES strings** to generate a **unique SMILES representation**.\n",
    "\n",
    "Canonical SMILES are generated using the **CANGEN algorithm** which can be broken down into two parts:\n",
    "1. **CANON Part** - Labels the atoms of the molecular structure canonically (i.e. in a unique way based on the structural topology)\n",
    "2. **GENES Part** - Generates a unique SMILES from the canonical labelling and the core SMILES rules set"
   ]
  },
  {
   "cell_type": "code",
   "execution_count": 6,
   "id": "c0d80085-7741-4dd1-b4d1-1489166d9419",
   "metadata": {},
   "outputs": [],
   "source": [
    "# Canonicalize SMILES and insert into dataframe\n",
    "dataset[SmilesConstants.SMILES] = molecular_descriptors_utils.generate_canonical_smiles(dataset.SMILES)\n",
    "\n",
    "# Remove any duplicate canonical SMILES from data set\n",
    "sanitised_dataset: DataFrame = dataset.drop_duplicates(subset=[SmilesConstants.SMILES])"
   ]
  },
  {
   "cell_type": "code",
   "execution_count": 7,
   "id": "4ba88769-b251-4b2d-9174-ccc1d61bb982",
   "metadata": {},
   "outputs": [
    {
     "data": {
      "image/png": "[encoded data removed]",
      "text/plain": [
       "<rdkit.Chem.rdchem.Mol at 0x7cbf07f79310>"
      ]
     },
     "execution_count": 7,
     "metadata": {},
     "output_type": "execute_result"
    }
   ],
   "source": [
    "butene_canonical_smiles_a: str = molecular_descriptors_utils.generate_canonical_smiles(['C=CCC'])\n",
    "butene_canonical_mol_a = Chem.MolFromSmiles(butene_canonical_smiles_a[0])\n",
    "butene_canonical_mol_a"
   ]
  },
  {
   "cell_type": "code",
   "execution_count": 8,
   "id": "9541e982-3a5d-45cc-abc9-13d1e3aa2ab8",
   "metadata": {},
   "outputs": [
    {
     "data": {
      "image/png": "[encoded data removed]",
      "text/plain": [
       "<rdkit.Chem.rdchem.Mol at 0x7cbec5a7a2d0>"
      ]
     },
     "execution_count": 8,
     "metadata": {},
     "output_type": "execute_result"
    }
   ],
   "source": [
    "butene_canonical_smiles_b: str = molecular_descriptors_utils.generate_canonical_smiles(['CCC=C'])\n",
    "butene_canonical_mol_b = Chem.MolFromSmiles(butene_canonical_smiles_b[0])\n",
    "butene_canonical_mol_b"
   ]
  },
  {
   "cell_type": "code",
   "execution_count": 9,
   "id": "f32dfb8e-740e-4dd2-99a4-80671f286dd2",
   "metadata": {},
   "outputs": [
    {
     "data": {
      "text/plain": [
       "True"
      ]
     },
     "execution_count": 9,
     "metadata": {},
     "output_type": "execute_result"
    }
   ],
   "source": [
    "butene_canonical_smiles_a == butene_canonical_smiles_b"
   ]
  },
  {
   "cell_type": "markdown",
   "id": "b1965a65-32aa-43f6-979e-17ed3abf9844",
   "metadata": {},
   "source": [
    "After the SMILES strings have been canonicalised, they generate the same Mol object and the new canonicalised SMILES strings are considered equivalent by Python"
   ]
  },
  {
   "cell_type": "markdown",
   "id": "03483eb8-9e9c-41fa-b888-eb8a5330726c",
   "metadata": {},
   "source": [
    "## 3. Calculate RDKit Descriptors for all Canonical SMILES in Data Set"
   ]
  },
  {
   "cell_type": "code",
   "execution_count": null,
   "id": "6730f738-031b-4b57-8cb5-dab3d7a71c26",
   "metadata": {},
   "outputs": [],
   "source": [
    "rdkit_mol_descriptors, desc_names = molecular_descriptors_utils.calculate_rdkit_descriptors(\n",
    "    sanitised_dataset[SmilesConstants.SMILES]\n",
    ")\n",
    "rdk_descriptors_dataframe = pandas.DataFrame(rdkit_mol_descriptors)"
   ]
  },
  {
   "cell_type": "markdown",
   "id": "40a661d7-ec2e-4c56-ad82-5be2e3309691",
   "metadata": {},
   "source": [
    "## 4. Calculate Morgan Fingerprints for all Canonical SMILES in Data Set"
   ]
  },
  {
   "cell_type": "code",
   "execution_count": 10,
   "id": "d3f86c71-0641-4a81-b0ce-5cec602ae45d",
   "metadata": {},
   "outputs": [],
   "source": [
    "morgan_fingerprints = molecular_descriptors_utils.calculate_morgan_fingerprints(\n",
    "    sanitised_dataset[SmilesConstants.SMILES]\n",
    ")\n",
    "morgan_fingerprints_dataframe = pandas.DataFrame(\n",
    "    morgan_fingerprints,\n",
    "    columns=['Col_{}'.format(i) for i in range(morgan_fingerprints.shape[1])]\n",
    ")"
   ]
  },
  {
   "cell_type": "markdown",
   "id": "aaf2ac01-4365-4094-879a-e522a63d822e",
   "metadata": {},
   "source": [
    "## 5. Calculate Mordred Descriptors for all Canonical SMILES in Data Set"
   ]
  },
  {
   "cell_type": "code",
   "execution_count": 11,
   "id": "ebe5f7e7-2a68-46e5-8591-cbdf882004a6",
   "metadata": {},
   "outputs": [],
   "source": [
    "mordred_descriptors = molecular_descriptors_utils.calculate_mordred_descriptors(\n",
    "    sanitised_dataset[SmilesConstants.SMILES]\n",
    ")"
   ]
  }
 ],
 "metadata": {
  "kernelspec": {
   "display_name": "Python 3 (ipykernel)",
   "language": "python",
   "name": "python3"
  },
  "language_info": {
   "codemirror_mode": {
    "name": "ipython",
    "version": 3
   },
   "file_extension": ".py",
   "mimetype": "text/x-python",
   "name": "python",
   "nbconvert_exporter": "python",
   "pygments_lexer": "ipython3",
   "version": "3.12.4"
  }
 },
 "nbformat": 4,
 "nbformat_minor": 5
}
